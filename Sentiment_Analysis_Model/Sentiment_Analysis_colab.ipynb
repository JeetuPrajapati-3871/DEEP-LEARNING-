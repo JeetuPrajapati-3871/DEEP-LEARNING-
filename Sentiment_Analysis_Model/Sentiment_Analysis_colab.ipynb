{
  "cells": [
    {
      "cell_type": "markdown",
      "source": [
        "Importing the Libraries"
      ],
      "metadata": {
        "id": "hj5GlBwzM1Um"
      },
      "id": "hj5GlBwzM1Um"
    },
    {
      "cell_type": "code",
      "execution_count": 1,
      "id": "477e68c8-a461-4599-82af-1e700ea0fc5a",
      "metadata": {
        "id": "477e68c8-a461-4599-82af-1e700ea0fc5a"
      },
      "outputs": [],
      "source": [
        "import numpy\n",
        "import matplotlib.pyplot as plt\n",
        "from tensorflow import keras\n",
        "from keras.datasets import  imdb\n",
        "from keras.preprocessing.sequence import pad_sequences\n",
        "from keras.models import Sequential\n",
        "from keras.layers import Embedding,Bidirectional,LSTM,Dense,BatchNormalization,Dropout\n",
        "from keras.callbacks import EarlyStopping,ModelCheckpoint"
      ]
    },
    {
      "cell_type": "code",
      "execution_count": 2,
      "id": "29b7d89e-06a3-4de3-bd61-7afc6daff5ff",
      "metadata": {
        "colab": {
          "base_uri": "https://localhost:8080/"
        },
        "id": "29b7d89e-06a3-4de3-bd61-7afc6daff5ff",
        "outputId": "cf71f31a-ea65-4a8d-ef55-c1901a993c38"
      },
      "outputs": [
        {
          "output_type": "stream",
          "name": "stdout",
          "text": [
            "Downloading data from https://storage.googleapis.com/tensorflow/tf-keras-datasets/imdb.npz\n",
            "\u001b[1m17464789/17464789\u001b[0m \u001b[32m━━━━━━━━━━━━━━━━━━━━\u001b[0m\u001b[37m\u001b[0m \u001b[1m0s\u001b[0m 0us/step\n"
          ]
        }
      ],
      "source": [
        "# Load the dataset\n",
        "max_length=200\n",
        "vocab_size=10000\n",
        "(x_train,y_train),(x_test,y_test)=imdb.load_data(num_words=vocab_size)"
      ]
    },
    {
      "cell_type": "markdown",
      "source": [
        "Adding the Padding to the sentences, So that they have vector of same dimensions"
      ],
      "metadata": {
        "id": "qTT_Nz9cQ9cc"
      },
      "id": "qTT_Nz9cQ9cc"
    },
    {
      "cell_type": "code",
      "execution_count": 3,
      "id": "e642d603-27ae-41b1-9e01-f2fafa0a1db8",
      "metadata": {
        "id": "e642d603-27ae-41b1-9e01-f2fafa0a1db8"
      },
      "outputs": [],
      "source": [
        "# Padding the data\n",
        "x_train=pad_sequences(x_train,maxlen=max_length,padding='post',truncating='post')\n",
        "x_test=pad_sequences(x_test,maxlen=max_length,padding='post',truncating='post')"
      ]
    },
    {
      "cell_type": "code",
      "execution_count": 4,
      "id": "00380231-2af3-4399-ad7c-d7a6f20a41fb",
      "metadata": {
        "colab": {
          "base_uri": "https://localhost:8080/"
        },
        "id": "00380231-2af3-4399-ad7c-d7a6f20a41fb",
        "outputId": "40075a21-c6e6-4e8b-9c9a-82325340744e"
      },
      "outputs": [
        {
          "output_type": "execute_result",
          "data": {
            "text/plain": [
              "(25000, 200)"
            ]
          },
          "metadata": {},
          "execution_count": 4
        }
      ],
      "source": [
        "x_train.shape"
      ]
    },
    {
      "cell_type": "code",
      "execution_count": 5,
      "id": "48f73e86-e64b-4276-98e0-93e92636349d",
      "metadata": {
        "colab": {
          "base_uri": "https://localhost:8080/",
          "height": 408
        },
        "id": "48f73e86-e64b-4276-98e0-93e92636349d",
        "outputId": "b1911626-3b2f-49b3-f80f-6990911d5f1c"
      },
      "outputs": [
        {
          "output_type": "stream",
          "name": "stderr",
          "text": [
            "/usr/local/lib/python3.11/dist-packages/keras/src/layers/core/embedding.py:90: UserWarning: Argument `input_length` is deprecated. Just remove it.\n",
            "  warnings.warn(\n"
          ]
        },
        {
          "output_type": "display_data",
          "data": {
            "text/plain": [
              "\u001b[1mModel: \"sequential\"\u001b[0m\n"
            ],
            "text/html": [
              "<pre style=\"white-space:pre;overflow-x:auto;line-height:normal;font-family:Menlo,'DejaVu Sans Mono',consolas,'Courier New',monospace\"><span style=\"font-weight: bold\">Model: \"sequential\"</span>\n",
              "</pre>\n"
            ]
          },
          "metadata": {}
        },
        {
          "output_type": "display_data",
          "data": {
            "text/plain": [
              "┏━━━━━━━━━━━━━━━━━━━━━━━━━━━━━━━━━┳━━━━━━━━━━━━━━━━━━━━━━━━┳━━━━━━━━━━━━━━━┓\n",
              "┃\u001b[1m \u001b[0m\u001b[1mLayer (type)                   \u001b[0m\u001b[1m \u001b[0m┃\u001b[1m \u001b[0m\u001b[1mOutput Shape          \u001b[0m\u001b[1m \u001b[0m┃\u001b[1m \u001b[0m\u001b[1m      Param #\u001b[0m\u001b[1m \u001b[0m┃\n",
              "┡━━━━━━━━━━━━━━━━━━━━━━━━━━━━━━━━━╇━━━━━━━━━━━━━━━━━━━━━━━━╇━━━━━━━━━━━━━━━┩\n",
              "│ embedding (\u001b[38;5;33mEmbedding\u001b[0m)           │ ?                      │   \u001b[38;5;34m0\u001b[0m (unbuilt) │\n",
              "├─────────────────────────────────┼────────────────────────┼───────────────┤\n",
              "│ lstm (\u001b[38;5;33mLSTM\u001b[0m)                     │ ?                      │   \u001b[38;5;34m0\u001b[0m (unbuilt) │\n",
              "├─────────────────────────────────┼────────────────────────┼───────────────┤\n",
              "│ dropout (\u001b[38;5;33mDropout\u001b[0m)               │ ?                      │             \u001b[38;5;34m0\u001b[0m │\n",
              "├─────────────────────────────────┼────────────────────────┼───────────────┤\n",
              "│ lstm_1 (\u001b[38;5;33mLSTM\u001b[0m)                   │ ?                      │   \u001b[38;5;34m0\u001b[0m (unbuilt) │\n",
              "├─────────────────────────────────┼────────────────────────┼───────────────┤\n",
              "│ dropout_1 (\u001b[38;5;33mDropout\u001b[0m)             │ ?                      │             \u001b[38;5;34m0\u001b[0m │\n",
              "├─────────────────────────────────┼────────────────────────┼───────────────┤\n",
              "│ dense (\u001b[38;5;33mDense\u001b[0m)                   │ ?                      │   \u001b[38;5;34m0\u001b[0m (unbuilt) │\n",
              "├─────────────────────────────────┼────────────────────────┼───────────────┤\n",
              "│ dense_1 (\u001b[38;5;33mDense\u001b[0m)                 │ ?                      │   \u001b[38;5;34m0\u001b[0m (unbuilt) │\n",
              "└─────────────────────────────────┴────────────────────────┴───────────────┘\n"
            ],
            "text/html": [
              "<pre style=\"white-space:pre;overflow-x:auto;line-height:normal;font-family:Menlo,'DejaVu Sans Mono',consolas,'Courier New',monospace\">┏━━━━━━━━━━━━━━━━━━━━━━━━━━━━━━━━━┳━━━━━━━━━━━━━━━━━━━━━━━━┳━━━━━━━━━━━━━━━┓\n",
              "┃<span style=\"font-weight: bold\"> Layer (type)                    </span>┃<span style=\"font-weight: bold\"> Output Shape           </span>┃<span style=\"font-weight: bold\">       Param # </span>┃\n",
              "┡━━━━━━━━━━━━━━━━━━━━━━━━━━━━━━━━━╇━━━━━━━━━━━━━━━━━━━━━━━━╇━━━━━━━━━━━━━━━┩\n",
              "│ embedding (<span style=\"color: #0087ff; text-decoration-color: #0087ff\">Embedding</span>)           │ ?                      │   <span style=\"color: #00af00; text-decoration-color: #00af00\">0</span> (unbuilt) │\n",
              "├─────────────────────────────────┼────────────────────────┼───────────────┤\n",
              "│ lstm (<span style=\"color: #0087ff; text-decoration-color: #0087ff\">LSTM</span>)                     │ ?                      │   <span style=\"color: #00af00; text-decoration-color: #00af00\">0</span> (unbuilt) │\n",
              "├─────────────────────────────────┼────────────────────────┼───────────────┤\n",
              "│ dropout (<span style=\"color: #0087ff; text-decoration-color: #0087ff\">Dropout</span>)               │ ?                      │             <span style=\"color: #00af00; text-decoration-color: #00af00\">0</span> │\n",
              "├─────────────────────────────────┼────────────────────────┼───────────────┤\n",
              "│ lstm_1 (<span style=\"color: #0087ff; text-decoration-color: #0087ff\">LSTM</span>)                   │ ?                      │   <span style=\"color: #00af00; text-decoration-color: #00af00\">0</span> (unbuilt) │\n",
              "├─────────────────────────────────┼────────────────────────┼───────────────┤\n",
              "│ dropout_1 (<span style=\"color: #0087ff; text-decoration-color: #0087ff\">Dropout</span>)             │ ?                      │             <span style=\"color: #00af00; text-decoration-color: #00af00\">0</span> │\n",
              "├─────────────────────────────────┼────────────────────────┼───────────────┤\n",
              "│ dense (<span style=\"color: #0087ff; text-decoration-color: #0087ff\">Dense</span>)                   │ ?                      │   <span style=\"color: #00af00; text-decoration-color: #00af00\">0</span> (unbuilt) │\n",
              "├─────────────────────────────────┼────────────────────────┼───────────────┤\n",
              "│ dense_1 (<span style=\"color: #0087ff; text-decoration-color: #0087ff\">Dense</span>)                 │ ?                      │   <span style=\"color: #00af00; text-decoration-color: #00af00\">0</span> (unbuilt) │\n",
              "└─────────────────────────────────┴────────────────────────┴───────────────┘\n",
              "</pre>\n"
            ]
          },
          "metadata": {}
        },
        {
          "output_type": "display_data",
          "data": {
            "text/plain": [
              "\u001b[1m Total params: \u001b[0m\u001b[38;5;34m0\u001b[0m (0.00 B)\n"
            ],
            "text/html": [
              "<pre style=\"white-space:pre;overflow-x:auto;line-height:normal;font-family:Menlo,'DejaVu Sans Mono',consolas,'Courier New',monospace\"><span style=\"font-weight: bold\"> Total params: </span><span style=\"color: #00af00; text-decoration-color: #00af00\">0</span> (0.00 B)\n",
              "</pre>\n"
            ]
          },
          "metadata": {}
        },
        {
          "output_type": "display_data",
          "data": {
            "text/plain": [
              "\u001b[1m Trainable params: \u001b[0m\u001b[38;5;34m0\u001b[0m (0.00 B)\n"
            ],
            "text/html": [
              "<pre style=\"white-space:pre;overflow-x:auto;line-height:normal;font-family:Menlo,'DejaVu Sans Mono',consolas,'Courier New',monospace\"><span style=\"font-weight: bold\"> Trainable params: </span><span style=\"color: #00af00; text-decoration-color: #00af00\">0</span> (0.00 B)\n",
              "</pre>\n"
            ]
          },
          "metadata": {}
        },
        {
          "output_type": "display_data",
          "data": {
            "text/plain": [
              "\u001b[1m Non-trainable params: \u001b[0m\u001b[38;5;34m0\u001b[0m (0.00 B)\n"
            ],
            "text/html": [
              "<pre style=\"white-space:pre;overflow-x:auto;line-height:normal;font-family:Menlo,'DejaVu Sans Mono',consolas,'Courier New',monospace\"><span style=\"font-weight: bold\"> Non-trainable params: </span><span style=\"color: #00af00; text-decoration-color: #00af00\">0</span> (0.00 B)\n",
              "</pre>\n"
            ]
          },
          "metadata": {}
        }
      ],
      "source": [
        "# building the model\n",
        "model=Sequential()\n",
        "\n",
        "model.add(Embedding(input_dim=vocab_size, output_dim=128, input_length=max_length))\n",
        "model.add(LSTM(64,return_sequences=True))\n",
        "model.add(Dropout(0.2))\n",
        "\n",
        "model.add(LSTM(32,return_sequences=False))\n",
        "model.add(Dropout(0.3))\n",
        "\n",
        "model.add(Dense(64,activation='relu'))\n",
        "\n",
        "model.add(Dense(1,activation='sigmoid'))\n",
        "\n",
        "model.summary()"
      ]
    },
    {
      "cell_type": "code",
      "execution_count": 6,
      "id": "2da873fe-0a4c-417a-bba5-6d18c6a9db99",
      "metadata": {
        "id": "2da873fe-0a4c-417a-bba5-6d18c6a9db99"
      },
      "outputs": [],
      "source": [
        "model.compile(loss='binary_crossentropy', optimizer='adam', metrics=['accuracy'])\n",
        "# model.summary()"
      ]
    },
    {
      "cell_type": "code",
      "execution_count": 7,
      "id": "0f789dca-6c15-4151-91f8-f3eb5a1b3e6b",
      "metadata": {
        "id": "0f789dca-6c15-4151-91f8-f3eb5a1b3e6b"
      },
      "outputs": [],
      "source": [
        "# Save the best model only (lowest validation loss)\n",
        "checkpoint_cb = ModelCheckpoint(\n",
        "    \"Sentiment_model.keras\",  # filename to save\n",
        "    monitor='val_loss',         # quantity to monitor\n",
        "    save_best_only=True,        # only save if val_loss improves\n",
        "    mode='min',                 # look for minimum\n",
        "    verbose=1\n",
        ")\n",
        "\n",
        "# Stop training if val_loss doesn't improve for 2 epochs\n",
        "earlystop_cb = EarlyStopping(\n",
        "    monitor='val_loss',\n",
        "    patience=2,         # how many epochs to wait\n",
        "    restore_best_weights=True,  # restore best weights found\n",
        "    verbose=1\n",
        ")\n"
      ]
    },
    {
      "cell_type": "code",
      "execution_count": 8,
      "id": "52c49f2b-45d7-4e9a-b327-3fabfcf1a8c6",
      "metadata": {
        "colab": {
          "base_uri": "https://localhost:8080/"
        },
        "id": "52c49f2b-45d7-4e9a-b327-3fabfcf1a8c6",
        "outputId": "45a9a4ca-8ecd-4fa9-8d15-702fe5c22315"
      },
      "outputs": [
        {
          "output_type": "stream",
          "name": "stdout",
          "text": [
            "Epoch 1/10\n",
            "\u001b[1m2497/2500\u001b[0m \u001b[32m━━━━━━━━━━━━━━━━━━━\u001b[0m\u001b[37m━\u001b[0m \u001b[1m0s\u001b[0m 15ms/step - accuracy: 0.5209 - loss: 0.6910\n",
            "Epoch 1: val_loss improved from inf to 0.69302, saving model to Sentiment_model.keras\n",
            "\u001b[1m2500/2500\u001b[0m \u001b[32m━━━━━━━━━━━━━━━━━━━━\u001b[0m\u001b[37m\u001b[0m \u001b[1m61s\u001b[0m 22ms/step - accuracy: 0.5209 - loss: 0.6910 - val_accuracy: 0.5005 - val_loss: 0.6930\n",
            "Epoch 2/10\n",
            "\u001b[1m2498/2500\u001b[0m \u001b[32m━━━━━━━━━━━━━━━━━━━\u001b[0m\u001b[37m━\u001b[0m \u001b[1m0s\u001b[0m 15ms/step - accuracy: 0.5460 - loss: 0.6713\n",
            "Epoch 2: val_loss improved from 0.69302 to 0.37564, saving model to Sentiment_model.keras\n",
            "\u001b[1m2500/2500\u001b[0m \u001b[32m━━━━━━━━━━━━━━━━━━━━\u001b[0m\u001b[37m\u001b[0m \u001b[1m82s\u001b[0m 23ms/step - accuracy: 0.5461 - loss: 0.6712 - val_accuracy: 0.8367 - val_loss: 0.3756\n",
            "Epoch 3/10\n",
            "\u001b[1m2500/2500\u001b[0m \u001b[32m━━━━━━━━━━━━━━━━━━━━\u001b[0m\u001b[37m\u001b[0m \u001b[1m0s\u001b[0m 15ms/step - accuracy: 0.8710 - loss: 0.3217\n",
            "Epoch 3: val_loss improved from 0.37564 to 0.32806, saving model to Sentiment_model.keras\n",
            "\u001b[1m2500/2500\u001b[0m \u001b[32m━━━━━━━━━━━━━━━━━━━━\u001b[0m\u001b[37m\u001b[0m \u001b[1m82s\u001b[0m 23ms/step - accuracy: 0.8710 - loss: 0.3217 - val_accuracy: 0.8612 - val_loss: 0.3281\n",
            "Epoch 4/10\n",
            "\u001b[1m2500/2500\u001b[0m \u001b[32m━━━━━━━━━━━━━━━━━━━━\u001b[0m\u001b[37m\u001b[0m \u001b[1m0s\u001b[0m 15ms/step - accuracy: 0.9250 - loss: 0.2152\n",
            "Epoch 4: val_loss did not improve from 0.32806\n",
            "\u001b[1m2500/2500\u001b[0m \u001b[32m━━━━━━━━━━━━━━━━━━━━\u001b[0m\u001b[37m\u001b[0m \u001b[1m82s\u001b[0m 23ms/step - accuracy: 0.9250 - loss: 0.2152 - val_accuracy: 0.8568 - val_loss: 0.3498\n",
            "Epoch 5/10\n",
            "\u001b[1m2497/2500\u001b[0m \u001b[32m━━━━━━━━━━━━━━━━━━━\u001b[0m\u001b[37m━\u001b[0m \u001b[1m0s\u001b[0m 15ms/step - accuracy: 0.9561 - loss: 0.1450\n",
            "Epoch 5: val_loss did not improve from 0.32806\n",
            "\u001b[1m2500/2500\u001b[0m \u001b[32m━━━━━━━━━━━━━━━━━━━━\u001b[0m\u001b[37m\u001b[0m \u001b[1m82s\u001b[0m 23ms/step - accuracy: 0.9561 - loss: 0.1450 - val_accuracy: 0.8457 - val_loss: 0.4370\n",
            "Epoch 5: early stopping\n",
            "Restoring model weights from the end of the best epoch: 3.\n"
          ]
        }
      ],
      "source": [
        "\n",
        "history=model.fit(x_train,y_train,epochs=10,batch_size=10,validation_data=(x_test,y_test),callbacks=[checkpoint_cb,earlystop_cb])"
      ]
    },
    {
      "cell_type": "markdown",
      "source": [
        "Predicting the x_test on the Model"
      ],
      "metadata": {
        "id": "rBs5Jq6cRRES"
      },
      "id": "rBs5Jq6cRRES"
    },
    {
      "cell_type": "code",
      "execution_count": 9,
      "id": "a84cdb74-7c46-452c-b91d-31dfeed34d6a",
      "metadata": {
        "colab": {
          "base_uri": "https://localhost:8080/"
        },
        "id": "a84cdb74-7c46-452c-b91d-31dfeed34d6a",
        "outputId": "ae776616-f5e2-496e-852a-51e76cf7ed4e"
      },
      "outputs": [
        {
          "output_type": "stream",
          "name": "stdout",
          "text": [
            "\u001b[1m782/782\u001b[0m \u001b[32m━━━━━━━━━━━━━━━━━━━━\u001b[0m\u001b[37m\u001b[0m \u001b[1m5s\u001b[0m 6ms/step\n"
          ]
        }
      ],
      "source": [
        "y_pred=model.predict(x_test)"
      ]
    },
    {
      "cell_type": "code",
      "execution_count": 10,
      "id": "262d7969-f0b3-4fdf-9bf1-4e82a519ec7c",
      "metadata": {
        "colab": {
          "base_uri": "https://localhost:8080/"
        },
        "id": "262d7969-f0b3-4fdf-9bf1-4e82a519ec7c",
        "outputId": "ae6a7322-3c46-49e4-ba45-b356d9bce15d"
      },
      "outputs": [
        {
          "output_type": "stream",
          "name": "stdout",
          "text": [
            "0\n",
            "[0.6317944]\n"
          ]
        }
      ],
      "source": [
        "print(y_train[5])\n",
        "print(y_pred[5])"
      ]
    },
    {
      "cell_type": "code",
      "execution_count": 11,
      "id": "1e1059c5-b75e-4684-afca-01a8e7cd303c",
      "metadata": {
        "colab": {
          "base_uri": "https://localhost:8080/"
        },
        "id": "1e1059c5-b75e-4684-afca-01a8e7cd303c",
        "outputId": "83a4f639-fa4b-447d-d33d-6e1740e45e2b"
      },
      "outputs": [
        {
          "output_type": "stream",
          "name": "stdout",
          "text": [
            "[0 1 1 1 1 1 1 0 1 1]\n"
          ]
        }
      ],
      "source": [
        "y_pred_class = (y_pred >= 0.5).astype(int)\n",
        "\n",
        "print(y_pred_class[:10].flatten())  # show first 10"
      ]
    },
    {
      "cell_type": "markdown",
      "source": [
        "Visualization"
      ],
      "metadata": {
        "id": "51c8Ybw0RwqN"
      },
      "id": "51c8Ybw0RwqN"
    },
    {
      "cell_type": "code",
      "execution_count": 14,
      "id": "200abfc7-724b-4da8-a656-a4c8b8cf554b",
      "metadata": {
        "colab": {
          "base_uri": "https://localhost:8080/",
          "height": 489
        },
        "id": "200abfc7-724b-4da8-a656-a4c8b8cf554b",
        "outputId": "3d3959d3-9590-43c4-8883-6411bd22720e"
      },
      "outputs": [
        {
          "output_type": "execute_result",
          "data": {
            "text/plain": [
              "<matplotlib.legend.Legend at 0x78f97f75de10>"
            ]
          },
          "metadata": {},
          "execution_count": 14
        },
        {
          "output_type": "display_data",
          "data": {
            "text/plain": [
              "<Figure size 640x480 with 1 Axes>"
            ],
            "image/png": "[encoded data removed]"
          },
          "metadata": {}
        }
      ],
      "source": [
        "plt.plot(history.history['accuracy'])\n",
        "plt.plot(history.history['val_accuracy'])\n",
        "plt.title('model accuracy')\n",
        "plt.ylabel('accuracy')\n",
        "plt.xlabel('epoch')\n",
        "plt.legend(['train', 'test'], loc='upper left')"
      ]
    },
    {
      "cell_type": "markdown",
      "source": [
        "Prediction on New data"
      ],
      "metadata": {
        "id": "IF-qfqg9S5dl"
      },
      "id": "IF-qfqg9S5dl"
    },
    {
      "cell_type": "code",
      "execution_count": 15,
      "id": "eb34795e-8c18-44d4-82b8-4beb05cdb597",
      "metadata": {
        "colab": {
          "base_uri": "https://localhost:8080/"
        },
        "id": "eb34795e-8c18-44d4-82b8-4beb05cdb597",
        "outputId": "de9c2b8a-d31a-4b97-9543-fe56f46d5725"
      },
      "outputs": [
        {
          "output_type": "stream",
          "name": "stdout",
          "text": [
            "Downloading data from https://storage.googleapis.com/tensorflow/tf-keras-datasets/imdb_word_index.json\n",
            "\u001b[1m1641221/1641221\u001b[0m \u001b[32m━━━━━━━━━━━━━━━━━━━━\u001b[0m\u001b[37m\u001b[0m \u001b[1m0s\u001b[0m 0us/step\n"
          ]
        }
      ],
      "source": [
        "from tensorflow.keras.datasets import imdb\n",
        "\n",
        "word_index = imdb.get_word_index()\n",
        "word_index = {k: (v + 3) for k, v in word_index.items()}\n",
        "word_index[\"<PAD>\"] = 0\n",
        "word_index[\"<START>\"] = 1\n",
        "word_index[\"<UNK>\"] = 2\n",
        "word_index[\"<UNUSED>\"] = 3\n",
        "\n"
      ]
    },
    {
      "cell_type": "code",
      "source": [
        "from tensorflow.keras.preprocessing.sequence import pad_sequences\n",
        "\n",
        "def encode_review(text, word_index, max_length=200):\n",
        "    words = text.lower().split()\n",
        "    encoded = [1]  # <START> token\n",
        "\n",
        "    for word in words:\n",
        "        index = word_index.get(word, 2)  # 2 = <UNK>\n",
        "        encoded.append(index)\n",
        "\n",
        "    padded = pad_sequences([encoded], maxlen=max_length, padding='post', truncating='post')\n",
        "    return padded\n"
      ],
      "metadata": {
        "id": "rEw3uGqpR2_X"
      },
      "id": "rEw3uGqpR2_X",
      "execution_count": 16,
      "outputs": []
    },
    {
      "cell_type": "code",
      "source": [
        "def predict_own_review(text):\n",
        "    encoded_input = encode_review(text, word_index)\n",
        "    prob = model.predict(encoded_input)[0][0]\n",
        "    label = int(prob >= 0.5)\n",
        "\n",
        "    print(f\"Review: {text}\")\n",
        "    print(f\"Raw probability: {prob:.4f}\")\n",
        "    print(f\"Predicted label: {label}  (0 = Negative, 1 = Positive)\")\n",
        "\n",
        "    return label\n"
      ],
      "metadata": {
        "id": "xdM8Gr6-R3Co"
      },
      "id": "xdM8Gr6-R3Co",
      "execution_count": 17,
      "outputs": []
    },
    {
      "cell_type": "code",
      "source": [
        "predict_own_review(\"I bought a new phone, everything amazing except camera \")"
      ],
      "metadata": {
        "colab": {
          "base_uri": "https://localhost:8080/"
        },
        "id": "yGnjNw6xR3Vg",
        "outputId": "2097f44e-d5b6-4675-e981-552b01bc3541"
      },
      "id": "yGnjNw6xR3Vg",
      "execution_count": 20,
      "outputs": [
        {
          "output_type": "stream",
          "name": "stdout",
          "text": [
            "\u001b[1m1/1\u001b[0m \u001b[32m━━━━━━━━━━━━━━━━━━━━\u001b[0m\u001b[37m\u001b[0m \u001b[1m0s\u001b[0m 34ms/step\n",
            "Review: I bought a new phone, everything amazing except camera and peroformance\n",
            "Raw probability: 0.7621\n",
            "Predicted label: 1  (0 = Negative, 1 = Positive)\n"
          ]
        },
        {
          "output_type": "execute_result",
          "data": {
            "text/plain": [
              "1"
            ]
          },
          "metadata": {},
          "execution_count": 20
        }
      ]
    },
    {
      "cell_type": "code",
      "execution_count": null,
      "id": "b094adc2-8a2e-402e-8de4-05a3618a2c23",
      "metadata": {
        "id": "b094adc2-8a2e-402e-8de4-05a3618a2c23"
      },
      "outputs": [],
      "source": []
    }
  ],
  "metadata": {
    "kernelspec": {
      "display_name": "Python 3",
      "name": "python3"
    },
    "language_info": {
      "codemirror_mode": {
        "name": "ipython",
        "version": 3
      },
      "file_extension": ".py",
      "mimetype": "text/x-python",
      "name": "python",
      "nbconvert_exporter": "python",
      "pygments_lexer": "ipython3",
      "version": "3.11.9"
    },
    "colab": {
      "provenance": [],
      "gpuType": "T4"
    },
    "accelerator": "GPU"
  },
  "nbformat": 4,
  "nbformat_minor": 5
}